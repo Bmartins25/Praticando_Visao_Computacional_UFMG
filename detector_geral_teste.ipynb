{
 "cells": [
  {
   "cell_type": "code",
   "execution_count": 5,
   "metadata": {},
   "outputs": [
    {
     "name": "stdout",
     "output_type": "stream",
     "text": [
      "Pressione 'q' para sair...\n"
     ]
    }
   ],
   "source": [
    "import cv2\n",
    "import numpy as np\n",
    "\n",
    "# Inicializar a captura de vídeo (webcam)\n",
    "cap = cv2.VideoCapture(0)  # Use 0 para a webcam padrão\n",
    "\n",
    "# Verifique se a câmera foi aberta com sucesso\n",
    "if not cap.isOpened():\n",
    "    print(\"Erro ao acessar a câmera.\")\n",
    "    exit()\n",
    "\n",
    "# Ler o primeiro frame para inicializar\n",
    "ret, frame1 = cap.read()\n",
    "frame1_gray = cv2.cvtColor(frame1, cv2.COLOR_BGR2GRAY)\n",
    "frame1_gray = cv2.GaussianBlur(frame1_gray, (21, 21), 0)\n",
    "\n",
    "print(\"Pressione 'q' para sair...\")\n",
    "\n",
    "while True:\n",
    "    # Ler o próximo frame\n",
    "    ret, frame2 = cap.read()\n",
    "    if not ret:\n",
    "        break\n",
    "\n",
    "    # Converter o frame atual para escala de cinza e aplicar desfoque\n",
    "    frame2_gray = cv2.cvtColor(frame2, cv2.COLOR_BGR2GRAY)\n",
    "    frame2_gray = cv2.GaussianBlur(frame2_gray, (21, 21), 0)\n",
    "\n",
    "    # Calcular a diferença entre os frames\n",
    "    frame_diff = cv2.absdiff(frame1_gray, frame2_gray)\n",
    "\n",
    "    # Aplicar um limiar para destacar as mudanças (áreas em movimento)\n",
    "    _, thresh = cv2.threshold(frame_diff, 25, 255, cv2.THRESH_BINARY)\n",
    "\n",
    "    # Dilatar a imagem para preencher lacunas nos objetos detectados\n",
    "    thresh = cv2.dilate(thresh, None, iterations=2)\n",
    "\n",
    "    # Encontrar contornos nas áreas destacadas\n",
    "    contours, _ = cv2.findContours(thresh, cv2.RETR_EXTERNAL, cv2.CHAIN_APPROX_SIMPLE)\n",
    "\n",
    "    # Desenhar contornos e pontos nos objetos detectados\n",
    "    for contour in contours:\n",
    "        if cv2.contourArea(contour) < 500:  # Ignorar pequenas mudanças\n",
    "            continue\n",
    "\n",
    "        # Obter o retângulo delimitador do contorno\n",
    "        (x, y, w, h) = cv2.boundingRect(contour)\n",
    "        cv2.rectangle(frame2, (x, y), (x + w, y + h), (0, 255, 0), 2)\n",
    "\n",
    "        # Calcular o ponto central do contorno\n",
    "        M = cv2.moments(contour)\n",
    "        if M[\"m00\"] != 0:  # Evitar divisão por zero\n",
    "            cx = int(M[\"m10\"] / M[\"m00\"])\n",
    "            cy = int(M[\"m01\"] / M[\"m00\"])\n",
    "            # Desenhar o ponto central\n",
    "            cv2.circle(frame2, (cx, cy), 5, (0, 0, 255), -1)\n",
    "\n",
    "    # Exibir apenas a janela \"Detecção de Movimento\"\n",
    "    cv2.imshow(\"Detecção de Movimento\", frame2)\n",
    "\n",
    "    # Atualizar o frame de referência\n",
    "    frame1_gray = frame2_gray\n",
    "\n",
    "    # Sair ao pressionar 'q'\n",
    "    if cv2.waitKey(1) & 0xFF == ord('q'):\n",
    "        break\n",
    "\n",
    "# Liberar recursos\n",
    "cap.release()\n",
    "cv2.destroyAllWindows()\n"
   ]
  }
 ],
 "metadata": {
  "kernelspec": {
   "display_name": "Python 3",
   "language": "python",
   "name": "python3"
  },
  "language_info": {
   "codemirror_mode": {
    "name": "ipython",
    "version": 3
   },
   "file_extension": ".py",
   "mimetype": "text/x-python",
   "name": "python",
   "nbconvert_exporter": "python",
   "pygments_lexer": "ipython3",
   "version": "3.9.0"
  },
  "orig_nbformat": 4
 },
 "nbformat": 4,
 "nbformat_minor": 2
}
