{
 "cells": [
  {
   "cell_type": "code",
   "execution_count": 1,
   "metadata": {},
   "outputs": [
    {
     "name": "stdout",
     "output_type": "stream",
     "text": [
      "Requirement already satisfied: mediapipe in c:\\users\\bruno.bartolomeu\\appdata\\local\\programs\\python\\python39\\lib\\site-packages (0.10.20)\n",
      "Requirement already satisfied: sentencepiece in c:\\users\\bruno.bartolomeu\\appdata\\local\\programs\\python\\python39\\lib\\site-packages (from mediapipe) (0.2.0)\n",
      "Requirement already satisfied: absl-py in c:\\users\\bruno.bartolomeu\\appdata\\local\\programs\\python\\python39\\lib\\site-packages (from mediapipe) (2.1.0)\n",
      "Requirement already satisfied: attrs>=19.1.0 in c:\\users\\bruno.bartolomeu\\appdata\\local\\programs\\python\\python39\\lib\\site-packages (from mediapipe) (24.3.0)\n",
      "Requirement already satisfied: opencv-contrib-python in c:\\users\\bruno.bartolomeu\\appdata\\local\\programs\\python\\python39\\lib\\site-packages (from mediapipe) (4.10.0.84)\n",
      "Requirement already satisfied: protobuf<5,>=4.25.3 in c:\\users\\bruno.bartolomeu\\appdata\\local\\programs\\python\\python39\\lib\\site-packages (from mediapipe) (4.25.5)\n",
      "Requirement already satisfied: flatbuffers>=2.0 in c:\\users\\bruno.bartolomeu\\appdata\\local\\programs\\python\\python39\\lib\\site-packages (from mediapipe) (24.12.23)\n",
      "Requirement already satisfied: matplotlib in c:\\users\\bruno.bartolomeu\\appdata\\local\\programs\\python\\python39\\lib\\site-packages (from mediapipe) (3.9.4)\n",
      "Requirement already satisfied: numpy<2 in c:\\users\\bruno.bartolomeu\\appdata\\local\\programs\\python\\python39\\lib\\site-packages (from mediapipe) (1.26.4)\n",
      "Requirement already satisfied: jax in c:\\users\\bruno.bartolomeu\\appdata\\local\\programs\\python\\python39\\lib\\site-packages (from mediapipe) (0.4.30)\n",
      "Requirement already satisfied: sounddevice>=0.4.4 in c:\\users\\bruno.bartolomeu\\appdata\\local\\programs\\python\\python39\\lib\\site-packages (from mediapipe) (0.5.1)\n",
      "Requirement already satisfied: jaxlib in c:\\users\\bruno.bartolomeu\\appdata\\local\\programs\\python\\python39\\lib\\site-packages (from mediapipe) (0.4.30)\n",
      "Requirement already satisfied: contourpy>=1.0.1 in c:\\users\\bruno.bartolomeu\\appdata\\local\\programs\\python\\python39\\lib\\site-packages (from matplotlib->mediapipe) (1.3.0)\n",
      "Requirement already satisfied: python-dateutil>=2.7 in c:\\users\\bruno.bartolomeu\\appdata\\roaming\\python\\python39\\site-packages (from matplotlib->mediapipe) (2.9.0.post0)\n",
      "Requirement already satisfied: importlib-resources>=3.2.0; python_version < \"3.10\" in c:\\users\\bruno.bartolomeu\\appdata\\local\\programs\\python\\python39\\lib\\site-packages (from matplotlib->mediapipe) (6.5.2)\n",
      "Requirement already satisfied: kiwisolver>=1.3.1 in c:\\users\\bruno.bartolomeu\\appdata\\local\\programs\\python\\python39\\lib\\site-packages (from matplotlib->mediapipe) (1.4.7)\n",
      "Requirement already satisfied: pillow>=8 in c:\\users\\bruno.bartolomeu\\appdata\\local\\programs\\python\\python39\\lib\\site-packages (from matplotlib->mediapipe) (11.1.0)\n",
      "Requirement already satisfied: pyparsing>=2.3.1 in c:\\users\\bruno.bartolomeu\\appdata\\local\\programs\\python\\python39\\lib\\site-packages (from matplotlib->mediapipe) (3.2.1)\n",
      "Requirement already satisfied: cycler>=0.10 in c:\\users\\bruno.bartolomeu\\appdata\\local\\programs\\python\\python39\\lib\\site-packages (from matplotlib->mediapipe) (0.12.1)\n",
      "Requirement already satisfied: packaging>=20.0 in c:\\users\\bruno.bartolomeu\\appdata\\roaming\\python\\python39\\site-packages (from matplotlib->mediapipe) (24.2)\n",
      "Requirement already satisfied: fonttools>=4.22.0 in c:\\users\\bruno.bartolomeu\\appdata\\local\\programs\\python\\python39\\lib\\site-packages (from matplotlib->mediapipe) (4.55.3)\n",
      "Requirement already satisfied: importlib-metadata>=4.6; python_version < \"3.10\" in c:\\users\\bruno.bartolomeu\\appdata\\roaming\\python\\python39\\site-packages (from jax->mediapipe) (8.5.0)\n",
      "Requirement already satisfied: ml-dtypes>=0.2.0 in c:\\users\\bruno.bartolomeu\\appdata\\local\\programs\\python\\python39\\lib\\site-packages (from jax->mediapipe) (0.5.1)\n",
      "Requirement already satisfied: opt-einsum in c:\\users\\bruno.bartolomeu\\appdata\\local\\programs\\python\\python39\\lib\\site-packages (from jax->mediapipe) (3.4.0)\n",
      "Requirement already satisfied: scipy>=1.9 in c:\\users\\bruno.bartolomeu\\appdata\\local\\programs\\python\\python39\\lib\\site-packages (from jax->mediapipe) (1.13.1)\n",
      "Requirement already satisfied: CFFI>=1.0 in c:\\users\\bruno.bartolomeu\\appdata\\local\\programs\\python\\python39\\lib\\site-packages (from sounddevice>=0.4.4->mediapipe) (1.17.1)\n",
      "Requirement already satisfied: six>=1.5 in c:\\users\\bruno.bartolomeu\\appdata\\roaming\\python\\python39\\site-packages (from python-dateutil>=2.7->matplotlib->mediapipe) (1.17.0)\n",
      "Requirement already satisfied: zipp>=3.1.0; python_version < \"3.10\" in c:\\users\\bruno.bartolomeu\\appdata\\roaming\\python\\python39\\site-packages (from importlib-resources>=3.2.0; python_version < \"3.10\"->matplotlib->mediapipe) (3.21.0)\n",
      "Requirement already satisfied: pycparser in c:\\users\\bruno.bartolomeu\\appdata\\local\\programs\\python\\python39\\lib\\site-packages (from CFFI>=1.0->sounddevice>=0.4.4->mediapipe) (2.22)\n",
      "Note: you may need to restart the kernel to use updated packages.\n"
     ]
    },
    {
     "name": "stderr",
     "output_type": "stream",
     "text": [
      "WARNING: You are using pip version 20.2.3; however, version 24.3.1 is available.\n",
      "You should consider upgrading via the 'c:\\Users\\bruno.bartolomeu\\AppData\\Local\\Programs\\Python\\Python39\\python.exe -m pip install --upgrade pip' command.\n"
     ]
    }
   ],
   "source": [
    "pip install mediapipe \n"
   ]
  },
  {
   "cell_type": "code",
   "execution_count": 2,
   "metadata": {},
   "outputs": [],
   "source": [
    "import cv2\n",
    "import mediapipe as mp\n",
    "\n",
    "# Inicializar o Mediapipe\n",
    "mp_hands = mp.solutions.hands\n",
    "mp_drawing = mp.solutions.drawing_utils\n",
    "\n",
    "# Capturar vídeo da webcam\n",
    "cap = cv2.VideoCapture(0)  # 0 para usar a webcam padrão\n",
    "\n",
    "with mp_hands.Hands(\n",
    "    static_image_mode=False,         # Detecção contínua\n",
    "    max_num_hands=2,                 # Detectar até 2 mãos\n",
    "    min_detection_confidence=0.5,    # Confiança mínima para detectar a mão\n",
    "    min_tracking_confidence=0.5      # Confiança mínima para rastrear a mão\n",
    ") as hands:\n",
    "    while cap.isOpened():\n",
    "        ret, frame = cap.read()\n",
    "        if not ret:\n",
    "            print(\"Erro ao acessar a câmera.\")\n",
    "            break\n",
    "\n",
    "        # Converter a imagem de BGR para RGB (necessário para o Mediapipe)\n",
    "        frame_rgb = cv2.cvtColor(frame, cv2.COLOR_BGR2RGB)\n",
    "\n",
    "        # Processar a imagem para detectar mãos\n",
    "        results = hands.process(frame_rgb)\n",
    "\n",
    "        # Desenhar os landmarks (pontos) e conexões na imagem\n",
    "        if results.multi_hand_landmarks:\n",
    "            for hand_landmarks in results.multi_hand_landmarks:\n",
    "                mp_drawing.draw_landmarks(\n",
    "                    frame, hand_landmarks, mp_hands.HAND_CONNECTIONS,\n",
    "                    mp_drawing.DrawingSpec(color=(0, 0, 255), thickness=2, circle_radius=2),  # Pontos\n",
    "                    mp_drawing.DrawingSpec(color=(0, 255, 0), thickness=2)                   # Conexões\n",
    "                )\n",
    "\n",
    "        # Exibir a imagem processada\n",
    "        cv2.imshow('Detecção de Mãos', frame)\n",
    "\n",
    "        # Sair ao pressionar 'q'\n",
    "        if cv2.waitKey(1) & 0xFF == ord('q'):\n",
    "            break\n",
    "\n",
    "# Liberar a câmera e fechar as janelas\n",
    "cap.release()\n",
    "cv2.destroyAllWindows()\n"
   ]
  },
  {
   "attachments": {},
   "cell_type": "markdown",
   "metadata": {},
   "source": [
    "Para fechar a câmera pressiona \"q\""
   ]
  }
 ],
 "metadata": {
  "kernelspec": {
   "display_name": "Python 3",
   "language": "python",
   "name": "python3"
  },
  "language_info": {
   "codemirror_mode": {
    "name": "ipython",
    "version": 3
   },
   "file_extension": ".py",
   "mimetype": "text/x-python",
   "name": "python",
   "nbconvert_exporter": "python",
   "pygments_lexer": "ipython3",
   "version": "3.9.0"
  },
  "orig_nbformat": 4
 },
 "nbformat": 4,
 "nbformat_minor": 2
}
